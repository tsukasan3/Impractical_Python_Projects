{
 "cells": [
  {
   "cell_type": "code",
   "execution_count": 2,
   "metadata": {},
   "outputs": [],
   "source": [
    "import sys\n",
    "import random"
   ]
  },
  {
   "cell_type": "code",
   "execution_count": 3,
   "metadata": {},
   "outputs": [
    {
     "name": "stdout",
     "output_type": "stream",
     "text": [
      "Welcome to Psych 'Sidekick Name Picker.'\n",
      "\n",
      "A name just like Sean Would pick for Gus:\n",
      "\n",
      "\n"
     ]
    }
   ],
   "source": [
    "print(\"Welcome to Psych 'Sidekick Name Picker.'\\n\")\n",
    "print(\"A name just like Sean Would pick for Gus:\\n\\n\")"
   ]
  },
  {
   "cell_type": "code",
   "execution_count": 4,
   "metadata": {},
   "outputs": [],
   "source": [
    "# 名のリスト作成\n",
    "first = ('Baby Oil', 'Bad News', 'Big Burps', \"Bill 'Beenie-Weenie'\",\n",
    "        \"Bob 'Stinkbug'\", 'Bowel Noises', 'Boxelder', \"Bud 'Lite' \", 'Butterbean',\n",
    "        'Buttermilk', 'Buttocks', 'Chad', 'Chesterfield', 'Chewy', 'Chigger', 'Cinnabuns',\n",
    "        'Cleet', 'Cornbread', 'Crab Meat', 'Crapps', 'Dark skies', 'Dennis Clawhammer',\n",
    "        'Dicman', 'Elphonso', 'Fancypants', 'Figgs', 'Foncy', 'Gootsy', 'Greasy Jim',\n",
    "        'Huckleberry', 'Huggy', 'Ignatious', 'Jimbo', \"Joe 'Pottin Soil'\", 'Johnny',\n",
    "        'Lemongrass', 'Lil Debil', 'Longbranch', '\"Lunch Money\"', 'Mergatroid', '\"Mr Peabody\"',\n",
    "         'Oli-Can', 'Oinks', 'Old Scratch', 'Ovaltine', 'Pennywhistle', 'Picthfork Ben',\n",
    "        'Potato Bug', 'Pushmeet', 'Rock Candy', 'Schlomo', 'Scratchensniff', 'Scut',\n",
    "        \"Sid 'The Squirts'\", 'Skidmark', 'Slaps', 'Snakes', 'Snoobs', 'Snorki', 'Soupcan Sam',\n",
    "        'Spitzitout', 'Squids', 'Stinky', 'Storyboard', 'Sweet Tea', 'TeeTee', 'Wheezy Joe',\n",
    "        \"Winston 'Jazz Hands'\", 'Worms')"
   ]
  },
  {
   "cell_type": "code",
   "execution_count": 5,
   "metadata": {},
   "outputs": [],
   "source": [
    "# 姓のリスト作成\n",
    "last = ('Appleyard', 'Bigmeat', 'BloominShine', 'Boogerbottom', 'Breedslovetrout',\n",
    "        'Butterbaugh', 'Clovenhoof', 'Clutterbuck', 'Cocktoasten', 'Endicott',\n",
    "        'Fewhairs', 'Gooberdapple', 'Goodensmith', 'Goodpasture', 'Guster', 'Henderson',\n",
    "        'Hooperbag', 'Hoosenater', 'Hootkins', 'Jefferson', 'Jenkins', 'Jingley-Schmidt',\n",
    "        'Johnson', 'Kingfish', 'Listenbee', \"M'Bembo\", 'McFadden', 'Moonshine', 'Nettles',\n",
    "        'Noseworthy', 'Olivetti', 'Outerbridge', 'Overpick', 'Overturf', 'Oxhandler',\n",
    "        'Pealike', 'Pennywhistle', 'Peterson', 'Pipelow', 'Pinkerton', 'Porkins',\n",
    "        'Putney', 'Quakenbush', 'Rainwater', 'Rosenthal', 'Rubbins', 'Sackriders',\n",
    "        'Snuggleshine', 'Splern', 'Stevens', 'Stroganoff', 'Sugar-Gold', 'Swackhamer',\n",
    "        'Tippins', 'Turnipseed', 'Vinaigrette', 'Walkingstick', 'Wallbanger', 'Weewax',\n",
    "        'Weiners', 'Whipkey', 'Wigglesworth', 'Wimplesnatch', 'Winterkorn', 'Woolysocks')"
   ]
  },
  {
   "cell_type": "code",
   "execution_count": 6,
   "metadata": {},
   "outputs": [
    {
     "name": "stderr",
     "output_type": "stream",
     "text": [
      "Cleet Cocktoasten\n"
     ]
    },
    {
     "name": "stdout",
     "output_type": "stream",
     "text": [
      "\n",
      "\n",
      "\n",
      "\n",
      "\n",
      "\n",
      "\n",
      "\n",
      "Try again? (Press Enter else n to quit)\n",
      " n\n",
      "\n",
      "Press Enter to exit\n"
     ]
    },
    {
     "data": {
      "text/plain": [
       "''"
      ]
     },
     "execution_count": 6,
     "metadata": {},
     "output_type": "execute_result"
    }
   ],
   "source": [
    "while True:\n",
    "    firstname = random.choice(first)\n",
    "    lastname = random.choice(last)\n",
    "    \n",
    "    print('\\n\\n')\n",
    "    print('{} {}'.format(firstname, lastname), file=sys.stderr)\n",
    "    print('\\n\\n')\n",
    "    \n",
    "    # input関数\n",
    "    try_again = input('\\n\\nTry again? (Press Enter else n to quit)\\n ')\n",
    "    if try_again.lower() == 'n':\n",
    "        break\n",
    "        \n",
    "input('\\nPress Enter to exit')"
   ]
  },
  {
   "cell_type": "code",
   "execution_count": null,
   "metadata": {},
   "outputs": [],
   "source": []
  }
 ],
 "metadata": {
  "kernelspec": {
   "display_name": "Python 3",
   "language": "python",
   "name": "python3"
  },
  "language_info": {
   "codemirror_mode": {
    "name": "ipython",
    "version": 3
   },
   "file_extension": ".py",
   "mimetype": "text/x-python",
   "name": "python",
   "nbconvert_exporter": "python",
   "pygments_lexer": "ipython3",
   "version": "3.7.4"
  }
 },
 "nbformat": 4,
 "nbformat_minor": 2
}
